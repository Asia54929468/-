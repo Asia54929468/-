{
 "cells": [
  {
   "cell_type": "code",
   "execution_count": 1,
   "id": "a9138e54",
   "metadata": {},
   "outputs": [
    {
     "data": {
      "text/html": [
       "<div>\n",
       "<style scoped>\n",
       "    .dataframe tbody tr th:only-of-type {\n",
       "        vertical-align: middle;\n",
       "    }\n",
       "\n",
       "    .dataframe tbody tr th {\n",
       "        vertical-align: top;\n",
       "    }\n",
       "\n",
       "    .dataframe thead th {\n",
       "        text-align: right;\n",
       "    }\n",
       "</style>\n",
       "<table border=\"1\" class=\"dataframe\">\n",
       "  <thead>\n",
       "    <tr style=\"text-align: right;\">\n",
       "      <th></th>\n",
       "      <th>id</th>\n",
       "      <th>time</th>\n",
       "      <th>entity_id</th>\n",
       "      <th>traj_id</th>\n",
       "      <th>coordinates</th>\n",
       "      <th>current_dis</th>\n",
       "      <th>speeds</th>\n",
       "      <th>holidays</th>\n",
       "      <th>longitude</th>\n",
       "      <th>latitude</th>\n",
       "    </tr>\n",
       "  </thead>\n",
       "  <tbody>\n",
       "    <tr>\n",
       "      <th>0</th>\n",
       "      <td>0</td>\n",
       "      <td>2013-10-08T17:45:00Z</td>\n",
       "      <td>254</td>\n",
       "      <td>0</td>\n",
       "      <td>[116.318726,40.009014]</td>\n",
       "      <td>0.000000</td>\n",
       "      <td>36.6900</td>\n",
       "      <td>0</td>\n",
       "      <td>116.318726</td>\n",
       "      <td>40.009014</td>\n",
       "    </tr>\n",
       "    <tr>\n",
       "      <th>1</th>\n",
       "      <td>1</td>\n",
       "      <td>2013-10-08T17:46:45Z</td>\n",
       "      <td>254</td>\n",
       "      <td>0</td>\n",
       "      <td>[116.315102,40.004784]</td>\n",
       "      <td>0.562623</td>\n",
       "      <td>24.5375</td>\n",
       "      <td>0</td>\n",
       "      <td>116.315102</td>\n",
       "      <td>40.004784</td>\n",
       "    </tr>\n",
       "    <tr>\n",
       "      <th>2</th>\n",
       "      <td>2</td>\n",
       "      <td>2013-10-08T17:47:39Z</td>\n",
       "      <td>254</td>\n",
       "      <td>0</td>\n",
       "      <td>[116.315018,40.002842]</td>\n",
       "      <td>0.778695</td>\n",
       "      <td>31.9675</td>\n",
       "      <td>0</td>\n",
       "      <td>116.315018</td>\n",
       "      <td>40.002842</td>\n",
       "    </tr>\n",
       "    <tr>\n",
       "      <th>3</th>\n",
       "      <td>3</td>\n",
       "      <td>2013-10-08T17:49:26Z</td>\n",
       "      <td>254</td>\n",
       "      <td>0</td>\n",
       "      <td>[116.315041,39.998585]</td>\n",
       "      <td>1.252148</td>\n",
       "      <td>19.7850</td>\n",
       "      <td>0</td>\n",
       "      <td>116.315041</td>\n",
       "      <td>39.998585</td>\n",
       "    </tr>\n",
       "    <tr>\n",
       "      <th>4</th>\n",
       "      <td>4</td>\n",
       "      <td>2013-10-08T17:51:15Z</td>\n",
       "      <td>254</td>\n",
       "      <td>0</td>\n",
       "      <td>[116.315605,39.992554]</td>\n",
       "      <td>1.924533</td>\n",
       "      <td>24.4500</td>\n",
       "      <td>0</td>\n",
       "      <td>116.315605</td>\n",
       "      <td>39.992554</td>\n",
       "    </tr>\n",
       "  </tbody>\n",
       "</table>\n",
       "</div>"
      ],
      "text/plain": [
       "   id                  time  entity_id  traj_id             coordinates  \\\n",
       "0   0  2013-10-08T17:45:00Z        254        0  [116.318726,40.009014]   \n",
       "1   1  2013-10-08T17:46:45Z        254        0  [116.315102,40.004784]   \n",
       "2   2  2013-10-08T17:47:39Z        254        0  [116.315018,40.002842]   \n",
       "3   3  2013-10-08T17:49:26Z        254        0  [116.315041,39.998585]   \n",
       "4   4  2013-10-08T17:51:15Z        254        0  [116.315605,39.992554]   \n",
       "\n",
       "   current_dis   speeds  holidays   longitude   latitude  \n",
       "0     0.000000  36.6900         0  116.318726  40.009014  \n",
       "1     0.562623  24.5375         0  116.315102  40.004784  \n",
       "2     0.778695  31.9675         0  116.315018  40.002842  \n",
       "3     1.252148  19.7850         0  116.315041  39.998585  \n",
       "4     1.924533  24.4500         0  116.315605  39.992554  "
      ]
     },
     "execution_count": 1,
     "metadata": {},
     "output_type": "execute_result"
    }
   ],
   "source": [
    "import pandas as pd\n",
    "import numpy as np\n",
    "\n",
    "# 加载数据\n",
    "traj_df = pd.read_csv('./data/traj.csv')\n",
    "traj_df['longitude'] = traj_df['coordinates'].apply(lambda x:eval(x)[0])\n",
    "traj_df['latitude'] = traj_df['coordinates'].apply(lambda x:eval(x)[1])\n",
    "traj_df['latitude'] = pd.to_numeric(traj_df['latitude'])\n",
    "traj_df['longitude'] = pd.to_numeric(traj_df['longitude'])\n",
    "\n",
    "traj_df.head()"
   ]
  },
  {
   "cell_type": "code",
   "execution_count": 5,
   "id": "3d48c954",
   "metadata": {},
   "outputs": [],
   "source": [
    "traj_df['coordinates'] = traj_df['coordinates'].apply(lambda x:eval(x))"
   ]
  },
  {
   "cell_type": "code",
   "execution_count": 6,
   "id": "0d54a7b8",
   "metadata": {},
   "outputs": [],
   "source": [
    "import numpy as np\n",
    "import pandas as pd\n",
    "import matplotlib.pyplot as plt\n",
    "import folium"
   ]
  },
  {
   "cell_type": "code",
   "execution_count": 7,
   "id": "7a1c777b",
   "metadata": {},
   "outputs": [],
   "source": [
    "map_v = folium.Map(location=[0, 0], zoom_start=2)\n",
    "for point in traj_df['coordinates']:\n",
    "    folium.Marker(location=point).add_to(map_v)"
   ]
  },
  {
   "cell_type": "code",
   "execution_count": 9,
   "id": "57a2cb0f",
   "metadata": {},
   "outputs": [],
   "source": [
    "map_v.save(\"trajectory_map.html\")"
   ]
  },
  {
   "cell_type": "code",
   "execution_count": 10,
   "id": "ce616e81",
   "metadata": {},
   "outputs": [],
   "source": [
    "map_v_sample = folium.Map(location=[0, 0], zoom_start=2)\n",
    "for point in traj_df['coordinates'].sample(1000):\n",
    "    folium.Marker(location=point).add_to(map_v_sample)\n",
    "map_v_sample.save(\"trajectory_map_sample.html\")"
   ]
  },
  {
   "cell_type": "code",
   "execution_count": null,
   "id": "cc8d4a74",
   "metadata": {},
   "outputs": [],
   "source": []
  }
 ],
 "metadata": {
  "kernelspec": {
   "display_name": "Python 3",
   "language": "python",
   "name": "python3"
  },
  "language_info": {
   "codemirror_mode": {
    "name": "ipython",
    "version": 3
   },
   "file_extension": ".py",
   "mimetype": "text/x-python",
   "name": "python",
   "nbconvert_exporter": "python",
   "pygments_lexer": "ipython3",
   "version": "3.6.10"
  }
 },
 "nbformat": 4,
 "nbformat_minor": 5
}
